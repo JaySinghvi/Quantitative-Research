{
 "cells": [
  {
   "cell_type": "markdown",
   "metadata": {},
   "source": [
    "Task 2:\n",
    "\n",
    "Write a function that is able to use the data you created previously to price the contract. The client may want to choose multiple dates to inject and withdraw a set amount of gas, so your approach should generalize the explanation from before. Consider all the cash flows involved in the product. The input parameters that should be taken into account for pricing are:\n",
    "\n",
    "1. Injection dates. \n",
    "2. Withdrawal dates.\n",
    "3. The prices at which the commodity can be purchased/sold on those dates.\n",
    "4. The rate at which the gas can be injected/withdrawn.\n",
    "5. The maximum volume that can be stored.\n",
    "6. Storage costs.\n",
    "\n",
    "Write a function that takes these inputs and gives back the value of the contract. You can assume there is no transport delay and that interest rates are zero. Market holidays, weekends, and bank holidays need not be accounted for. Test your code by selecting a few sample inputs."
   ]
  },
  {
   "cell_type": "code",
   "execution_count": null,
   "metadata": {},
   "outputs": [],
   "source": [
    "import pandas as pd\n",
    "import numpy as np\n",
    "\n",
    "def predict_price(date):\n",
    "    price = all_df[all_df[\"Dates\"] == date][\"Prices\"].values\n",
    "    if price.size == 1:\n",
    "        return price.item()\n",
    "    else:\n",
    "        raise ValueError(f\"Expected exactly one price for date {date}, but got {price.size}\")\n",
    "\n",
    "def contract_value(injection_dates, withdrawal_dates, commodity_rate, injection_withdrawal_prices, max_vol, storage_costs):\n",
    "    profit = 0\n",
    "\n",
    "    for i in range(len(injection_dates)):\n",
    "        injection_price = predict_price(injection_dates[i])\n",
    "        print(\"injection_price:\", injection_price)\n",
    "        withdrawal_price = predict_price(withdrawal_dates[i])\n",
    "        print(\"withdrawal_price:\", withdrawal_price)\n",
    "\n",
    "        months_in_store = round((pd.to_datetime(withdrawal_dates[i]) - pd.to_datetime(injection_dates[i])).days / 30)\n",
    "        print(\"months in store:\", months_in_store)\n",
    "        total_inject_vol = min(months_in_store * commodity_rate, max_vol)\n",
    "        print(\"total_injected_volume:\", total_inject_vol)\n",
    "\n",
    "        injection_cost = (total_inject_vol * injection_price) - (total_inject_vol / 1000000 * injection_withdrawal_prices)\n",
    "        print(\"injection_cost:\", injection_cost)\n",
    "        sales_revenue = total_inject_vol * withdrawal_price - (total_inject_vol / 1000000 * injection_withdrawal_prices)\n",
    "        print(\"sales_revenue:\", sales_revenue)\n",
    "        strg_cst = months_in_store * storage_costs\n",
    "        print(\"storage_cost:\", strg_cst)\n",
    "\n",
    "        profit += (sales_revenue - injection_cost - strg_cst)\n",
    "\n",
    "    return profit\n",
    "\n",
    "# Sample testing\n",
    "injection_dates = [\"9/30/2024\"]\n",
    "withdrawal_dates = [\"2/28/2025\"]\n",
    "commodity_rate = 1000000\n",
    "injection_withdrawal_prices = 10000\n",
    "max_vol = 50000000\n",
    "storage_costs = 100000\n",
    "\n",
    "profit = contract_value(injection_dates, withdrawal_dates, commodity_rate, injection_withdrawal_prices, max_vol, storage_costs)\n",
    "print(\"profit:\", profit)\n"
   ]
  }
 ],
 "metadata": {
  "kernelspec": {
   "display_name": "base",
   "language": "python",
   "name": "python3"
  },
  "language_info": {
   "codemirror_mode": {
    "name": "ipython",
    "version": 3
   },
   "file_extension": ".py",
   "mimetype": "text/x-python",
   "name": "python",
   "nbconvert_exporter": "python",
   "pygments_lexer": "ipython3",
   "version": "3.11.7"
  }
 },
 "nbformat": 4,
 "nbformat_minor": 2
}
